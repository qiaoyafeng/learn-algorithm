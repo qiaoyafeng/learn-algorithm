{
 "cells": [
  {
   "cell_type": "markdown",
   "id": "0d808136-b078-47da-ac67-45a02e487a69",
   "metadata": {},
   "source": [
    "# 装饰器"
   ]
  },
  {
   "cell_type": "code",
   "execution_count": null,
   "id": "91784836-87a5-4d40-9096-0909cba5c8ca",
   "metadata": {},
   "outputs": [],
   "source": [
    "decorator可以增强函数的功能"
   ]
  },
  {
   "cell_type": "markdown",
   "id": "be882f1c-82d1-450b-81df-3ca43b22f330",
   "metadata": {},
   "source": [
    "## 蓝本规范:"
   ]
  },
  {
   "cell_type": "code",
   "execution_count": 2,
   "id": "1bda9558-e868-4a82-8638-c59ac75aae00",
   "metadata": {},
   "outputs": [
    {
     "name": "stdout",
     "output_type": "stream",
     "text": [
      "Function is running\n",
      "Function will not run\n"
     ]
    }
   ],
   "source": [
    "from functools import wraps\n",
    "\n",
    "def decorator_name(func):\n",
    "    @wraps(func)\n",
    "    def decorated(*args, **kwargs):\n",
    "        if not can_run:\n",
    "            return 'Function will not run'\n",
    "        return func(*args, **kwargs)\n",
    "    return decorated\n",
    "\n",
    "\n",
    "@decorator_name\n",
    "def func():\n",
    "    return 'Function is running'\n",
    "\n",
    "can_run = True\n",
    "print(func())\n",
    "\n",
    "can_run = False\n",
    "print(func())\n"
   ]
  },
  {
   "cell_type": "markdown",
   "id": "fde4341c-bda0-4fa3-a82e-18a78b1ccf09",
   "metadata": {},
   "source": [
    "注意：@wraps接受一个函数来进行装饰，并加入了复制函数名称、注释文档、参数列表等等的功能。这可以让我们在装饰器里面访问在装饰之前的函数的属性。"
   ]
  },
  {
   "cell_type": "markdown",
   "id": "4378514e-e67d-43c7-b761-80166997c461",
   "metadata": {},
   "source": [
    "## 使用场景"
   ]
  },
  {
   "cell_type": "markdown",
   "id": "9e713968-a5f3-44fc-b1b0-c4915aedfce0",
   "metadata": {},
   "source": [
    "### 授权"
   ]
  },
  {
   "cell_type": "markdown",
   "id": "03c21ebc-1b78-4f75-90dc-f1a825d36978",
   "metadata": {},
   "source": [
    "装饰器能有助于检查某个人是否被授权去使用一个web应用的端点(endpoint)。它们被大量使用于Flask和Django web框架中。这里是一个例子来使用基于装饰器的授权："
   ]
  },
  {
   "cell_type": "code",
   "execution_count": null,
   "id": "5c79f0fd-2fcd-4f53-88c5-5b17a5bb6e0d",
   "metadata": {},
   "outputs": [],
   "source": [
    "from functools import wraps\n",
    "\n",
    "def requires_auth(f):\n",
    "    @wraps(f)\n",
    "    def decorated(*args, **kwargs):\n",
    "        auth = request.authorization\n",
    "        if not auth or not check_auth(auth.username, auth.password):\n",
    "            authenticate()\n",
    "        return f(*args, **kwargs)\n",
    "    return decorated\n"
   ]
  },
  {
   "cell_type": "markdown",
   "id": "58843945-d0c8-409b-9e43-6efa46c151d9",
   "metadata": {},
   "source": [
    "### 日志"
   ]
  },
  {
   "cell_type": "markdown",
   "id": "9a948d0b-d6cb-4292-a47b-aa07bbb7df47",
   "metadata": {},
   "source": [
    "日志是装饰器运用的另一个亮点。这是个例子："
   ]
  },
  {
   "cell_type": "code",
   "execution_count": 4,
   "id": "f81cc750-029d-4a14-9cc4-46c4476ac50a",
   "metadata": {},
   "outputs": [
    {
     "name": "stdout",
     "output_type": "stream",
     "text": [
      "addition_funcis calling\n",
      "addition_funcwas called\n"
     ]
    }
   ],
   "source": [
    "from functools import wraps\n",
    "\n",
    "def logit(func):\n",
    "    @wraps(func)\n",
    "    def with_logging(*args, **kwargs):\n",
    "        print(func.__name__ + 'is calling')\n",
    "        f = func(*args, **kwargs)\n",
    "        print(func.__name__ + 'was called')\n",
    "        return f\n",
    "    return with_logging\n",
    "\n",
    "@logit\n",
    "def addition_func(x):\n",
    "    \"\"\"Do some things\"\"\"\n",
    "    return x ** x\n",
    "\n",
    "result = addition_func(4)"
   ]
  },
  {
   "cell_type": "markdown",
   "id": "621f6cf3-470d-4992-89dc-708e04c617c7",
   "metadata": {},
   "source": [
    "## 带参数的装饰器"
   ]
  },
  {
   "cell_type": "markdown",
   "id": "8f34ccf3-75a6-4ae3-9d28-ae49c3e4a078",
   "metadata": {},
   "source": [
    "### 在函数中嵌入装饰器"
   ]
  },
  {
   "cell_type": "code",
   "execution_count": 5,
   "id": "528fe4da-42e5-492a-b16a-829acbaf04cb",
   "metadata": {},
   "outputs": [
    {
     "name": "stdout",
     "output_type": "stream",
     "text": [
      "myfunc1 was called\n",
      "myfunc2 was called\n"
     ]
    }
   ],
   "source": [
    "from functools import wraps\n",
    "\n",
    "def logit(logfile='out.log'):\n",
    "    def logging_decorator(func):\n",
    "        @wraps(func)\n",
    "        def wrapped_function(*args, **kwargs):\n",
    "            log_string = func.__name__ + \" was called\"\n",
    "            print(log_string)\n",
    "            # 打开logfile，并写入内容\n",
    "            with open(logfile, 'a') as opened_file:\n",
    "                # 现在将日志打到指定的logfile\n",
    "                opened_file.write(log_string + '\\n')\n",
    "            return func(*args, **kwargs)\n",
    "        return wrapped_function\n",
    "    return logging_decorator\n",
    "\n",
    "@logit()\n",
    "def myfunc1():\n",
    "    pass\n",
    "\n",
    "myfunc1()\n",
    "# Output: myfunc1 was called\n",
    "# 现在一个叫做 out.log 的文件出现了，里面的内容就是上面的字符串\n",
    "\n",
    "@logit(logfile='func2.log')\n",
    "def myfunc2():\n",
    "    pass\n",
    "\n",
    "myfunc2()\n",
    "# Output: myfunc2 was called\n",
    "# 现在一个叫做 func2.log 的文件出现了，里面的内容就是上面的字符串"
   ]
  },
  {
   "cell_type": "markdown",
   "id": "45030493-01a9-423d-b5a8-95a03bb5ce79",
   "metadata": {},
   "source": [
    "### 装饰器类"
   ]
  },
  {
   "cell_type": "code",
   "execution_count": 6,
   "id": "8e37fec2-dc24-4541-bd5c-e950d2008a3e",
   "metadata": {},
   "outputs": [],
   "source": [
    "from functools import wraps\n",
    "\n",
    "class logit(object):\n",
    "    def __init__(self, logfile='out.log'):\n",
    "        self.logfile = logfile\n",
    "\n",
    "    def __call__(self, func):\n",
    "        @wraps(func)\n",
    "        def wrapped_function(*args, **kwargs):\n",
    "            log_string = func.__name__ + \" was called\"\n",
    "            print(log_string)\n",
    "            # 打开logfile并写入\n",
    "            with open(self.logfile, 'a') as opened_file:\n",
    "                # 现在将日志打到指定的文件\n",
    "                opened_file.write(log_string + '\\n')\n",
    "            # 现在，发送一个通知\n",
    "            self.notify()\n",
    "            return func(*args, **kwargs)\n",
    "        return wrapped_function\n",
    "\n",
    "    def notify(self):\n",
    "        # logit只打日志，不做别的\n",
    "        pass"
   ]
  },
  {
   "cell_type": "code",
   "execution_count": null,
   "id": "64bcc174-94b4-4675-84d6-cfd9d71a6ca4",
   "metadata": {},
   "outputs": [],
   "source": [
    "@logit()\n",
    "def myfunc1():\n",
    "    pass"
   ]
  },
  {
   "cell_type": "code",
   "execution_count": null,
   "id": "7a35303f-d4f5-4476-a761-57c80c2c535e",
   "metadata": {},
   "outputs": [],
   "source": [
    "class email_logit(logit):\n",
    "    '''\n",
    "    一个logit的实现版本，可以在函数调用时发送email给管理员\n",
    "    '''\n",
    "    def __init__(self, email='admin@myproject.com', *args, **kwargs):\n",
    "        self.email = email\n",
    "        super(email_logit, self).__init__(*args, **kwargs)\n",
    "\n",
    "    def notify(self):\n",
    "        # 发送一封email到self.email\n",
    "        # 这里就不做实现了\n",
    "        pass"
   ]
  }
 ],
 "metadata": {
  "kernelspec": {
   "display_name": "Python 3 (ipykernel)",
   "language": "python",
   "name": "python3"
  },
  "language_info": {
   "codemirror_mode": {
    "name": "ipython",
    "version": 3
   },
   "file_extension": ".py",
   "mimetype": "text/x-python",
   "name": "python",
   "nbconvert_exporter": "python",
   "pygments_lexer": "ipython3",
   "version": "3.8.0"
  }
 },
 "nbformat": 4,
 "nbformat_minor": 5
}
