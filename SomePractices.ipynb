{
 "cells": [
  {
   "cell_type": "markdown",
   "source": [
    "# 一些练习"
   ],
   "metadata": {}
  },
  {
   "cell_type": "markdown",
   "source": [
    "## 装饰器"
   ],
   "metadata": {}
  },
  {
   "cell_type": "code",
   "execution_count": 2,
   "source": [
    "from functools import wraps\r\n",
    "\r\n",
    "def decorator(func):\r\n",
    "    @wraps(func)\r\n",
    "    def wrapper(*args, **kwargs):\r\n",
    "        print('enter decorator=====')\r\n",
    "        result = func(*args, **kwargs)\r\n",
    "        print('exit decorator=====')\r\n",
    "        return result\r\n",
    "    return wrapper\r\n",
    "\r\n",
    "@decorator\r\n",
    "def count(x, y):\r\n",
    "    print('x + y = ', x + y)\r\n",
    "\r\n",
    "\r\n",
    "sum = count(25, 10)"
   ],
   "outputs": [
    {
     "output_type": "stream",
     "name": "stdout",
     "text": [
      "enter decorator=====\n",
      "x + y =  35\n",
      "exit decorator=====\n"
     ]
    }
   ],
   "metadata": {}
  },
  {
   "cell_type": "markdown",
   "source": [
    "## 单例模式"
   ],
   "metadata": {}
  },
  {
   "cell_type": "code",
   "execution_count": 3,
   "source": [
    "class Singleton(object):\r\n",
    "    def __new__(cls):\r\n",
    "        if not hasattr(cls, 'instance'):\r\n",
    "            cls.instance = super(Singleton, cls).__new__(cls)\r\n",
    "        return cls.instance\r\n",
    "\r\n",
    "s1 = Singleton()\r\n",
    "print('s1 object created', s1)\r\n",
    "\r\n",
    "s2 = Singleton()\r\n",
    "print('s2 object created', s2)\r\n",
    "\r\n"
   ],
   "outputs": [
    {
     "output_type": "stream",
     "name": "stdout",
     "text": [
      "s1 object created <__main__.Singleton object at 0x000001957A5ADBB0>\n",
      "s2 object created <__main__.Singleton object at 0x000001957A5ADBB0>\n"
     ]
    }
   ],
   "metadata": {}
  },
  {
   "cell_type": "markdown",
   "source": [
    "## 简单工厂模式"
   ],
   "metadata": {}
  },
  {
   "cell_type": "code",
   "execution_count": null,
   "source": [],
   "outputs": [],
   "metadata": {}
  },
  {
   "cell_type": "markdown",
   "source": [
    "## 对一个1到n的列表进行随机排序，且保证相邻的数不能连续"
   ],
   "metadata": {}
  },
  {
   "cell_type": "code",
   "execution_count": 4,
   "source": [
    "import random\r\n",
    "\r\n",
    "def get_incontine_nums(array):\r\n",
    "    result_list = [0 for i in range(len(array))]\r\n",
    "    print(result_list)\r\n",
    "    for num in array:\r\n",
    "        print(num)\r\n",
    "        while True:\r\n",
    "            index = random.randint(0,len(array) - 1)\r\n",
    "            if result_list[index] == 0:\r\n",
    "                if index == 0:\r\n",
    "                    if num - result_list[index + 1] != 1:\r\n",
    "                        result_list[index] = num\r\n",
    "                        break\r\n",
    "                elif index == len(array)-1:\r\n",
    "                    if num - result_list[index - 1] != 1:\r\n",
    "                        result_list[index] = num\r\n",
    "                        break\r\n",
    "                else:\r\n",
    "                    if num - result_list[index - 1] != 1 and num - result_list[index + 1] != 1:\r\n",
    "                        result_list[index] = num\r\n",
    "                        break\r\n",
    "        print(num, '------------>' , result_list)\r\n",
    "    return result_list\r\n",
    "            \r\n",
    "\r\n",
    "mylist = [1, 2, 3, 4, 5, 6, 7, 8]\r\n",
    "print('=====================')\r\n",
    "res = get_incontine_nums(mylist)\r\n",
    "print(res)\r\n"
   ],
   "outputs": [
    {
     "output_type": "stream",
     "name": "stdout",
     "text": [
      "=====================\n",
      "[0, 0, 0, 0, 0, 0, 0, 0]\n",
      "1\n"
     ]
    },
    {
     "output_type": "error",
     "ename": "KeyboardInterrupt",
     "evalue": "",
     "traceback": [
      "\u001b[1;31m---------------------------------------------------------------------------\u001b[0m",
      "\u001b[1;31mKeyboardInterrupt\u001b[0m                         Traceback (most recent call last)",
      "\u001b[1;32m~\\AppData\\Local\\Temp/ipykernel_31984/1431218089.py\u001b[0m in \u001b[0;36m<module>\u001b[1;34m\u001b[0m\n\u001b[0;32m     27\u001b[0m \u001b[0mmylist\u001b[0m \u001b[1;33m=\u001b[0m \u001b[1;33m[\u001b[0m\u001b[1;36m1\u001b[0m\u001b[1;33m,\u001b[0m \u001b[1;36m2\u001b[0m\u001b[1;33m,\u001b[0m \u001b[1;36m3\u001b[0m\u001b[1;33m,\u001b[0m \u001b[1;36m4\u001b[0m\u001b[1;33m,\u001b[0m \u001b[1;36m5\u001b[0m\u001b[1;33m,\u001b[0m \u001b[1;36m6\u001b[0m\u001b[1;33m,\u001b[0m \u001b[1;36m7\u001b[0m\u001b[1;33m,\u001b[0m \u001b[1;36m8\u001b[0m\u001b[1;33m]\u001b[0m\u001b[1;33m\u001b[0m\u001b[1;33m\u001b[0m\u001b[0m\n\u001b[0;32m     28\u001b[0m \u001b[0mprint\u001b[0m\u001b[1;33m(\u001b[0m\u001b[1;34m'====================='\u001b[0m\u001b[1;33m)\u001b[0m\u001b[1;33m\u001b[0m\u001b[1;33m\u001b[0m\u001b[0m\n\u001b[1;32m---> 29\u001b[1;33m \u001b[0mres\u001b[0m \u001b[1;33m=\u001b[0m \u001b[0mget_incontine_nums\u001b[0m\u001b[1;33m(\u001b[0m\u001b[0mmylist\u001b[0m\u001b[1;33m)\u001b[0m\u001b[1;33m\u001b[0m\u001b[1;33m\u001b[0m\u001b[0m\n\u001b[0m\u001b[0;32m     30\u001b[0m \u001b[0mprint\u001b[0m\u001b[1;33m(\u001b[0m\u001b[0mres\u001b[0m\u001b[1;33m)\u001b[0m\u001b[1;33m\u001b[0m\u001b[1;33m\u001b[0m\u001b[0m\n",
      "\u001b[1;32m~\\AppData\\Local\\Temp/ipykernel_31984/1431218089.py\u001b[0m in \u001b[0;36mget_incontine_nums\u001b[1;34m(array)\u001b[0m\n\u001b[0;32m     18\u001b[0m                         \u001b[1;32mbreak\u001b[0m\u001b[1;33m\u001b[0m\u001b[1;33m\u001b[0m\u001b[0m\n\u001b[0;32m     19\u001b[0m                 \u001b[1;32melse\u001b[0m\u001b[1;33m:\u001b[0m\u001b[1;33m\u001b[0m\u001b[1;33m\u001b[0m\u001b[0m\n\u001b[1;32m---> 20\u001b[1;33m                     \u001b[1;32mif\u001b[0m \u001b[0mnum\u001b[0m \u001b[1;33m-\u001b[0m \u001b[0mresult_list\u001b[0m\u001b[1;33m[\u001b[0m\u001b[0mindex\u001b[0m \u001b[1;33m-\u001b[0m \u001b[1;36m1\u001b[0m\u001b[1;33m]\u001b[0m \u001b[1;33m!=\u001b[0m \u001b[1;36m1\u001b[0m \u001b[1;32mand\u001b[0m \u001b[0mnum\u001b[0m \u001b[1;33m-\u001b[0m \u001b[0mresult_list\u001b[0m\u001b[1;33m[\u001b[0m\u001b[0mindex\u001b[0m \u001b[1;33m+\u001b[0m \u001b[1;36m1\u001b[0m\u001b[1;33m]\u001b[0m \u001b[1;33m!=\u001b[0m \u001b[1;36m1\u001b[0m\u001b[1;33m:\u001b[0m\u001b[1;33m\u001b[0m\u001b[1;33m\u001b[0m\u001b[0m\n\u001b[0m\u001b[0;32m     21\u001b[0m                         \u001b[0mresult_list\u001b[0m\u001b[1;33m[\u001b[0m\u001b[0mindex\u001b[0m\u001b[1;33m]\u001b[0m \u001b[1;33m=\u001b[0m \u001b[0mnum\u001b[0m\u001b[1;33m\u001b[0m\u001b[1;33m\u001b[0m\u001b[0m\n\u001b[0;32m     22\u001b[0m                         \u001b[1;32mbreak\u001b[0m\u001b[1;33m\u001b[0m\u001b[1;33m\u001b[0m\u001b[0m\n",
      "\u001b[1;31mKeyboardInterrupt\u001b[0m: "
     ]
    }
   ],
   "metadata": {}
  },
  {
   "cell_type": "markdown",
   "source": [
    "## 关于 copy 和 deepcopy"
   ],
   "metadata": {}
  },
  {
   "cell_type": "code",
   "execution_count": null,
   "source": [
    "import copy\r\n",
    "a = [1, 2, 3, 4, 5, ['a', 'b', 'c']]\r\n",
    "b = a\r\n",
    "c = copy.copy(a)\r\n",
    "d = copy.deepcopy(a)\r\n",
    "\r\n",
    "a.append(5)\r\n",
    "a[5].append('5')\r\n",
    "c[3] = 6\r\n",
    "d[1] = 0\r\n",
    "\r\n",
    "print(b)\r\n",
    "print(c)\r\n",
    "print(d)"
   ],
   "outputs": [
    {
     "output_type": "stream",
     "name": "stdout",
     "text": [
      "[1, 2, 3, 4, 5, ['a', 'b', 'c', '5'], 5]\n",
      "[1, 2, 3, 6, 5, ['a', 'b', 'c', '5']]\n",
      "[1, 0, 3, 4, 5, ['a', 'b', 'c']]\n"
     ]
    }
   ],
   "metadata": {}
  },
  {
   "cell_type": "markdown",
   "source": [
    "## 汉诺塔"
   ],
   "metadata": {}
  },
  {
   "cell_type": "code",
   "execution_count": null,
   "source": [
    "def hanoi(n, a, b, c):\r\n",
    "    if n > 0:\r\n",
    "        hanoi(n - 1, a, c, b)\r\n",
    "        print('Moving from %s to %s' %(a, c))\r\n",
    "        hanoi(n - 1, b, a, c)\r\n",
    "hanoi(3, 'A', 'B', 'C')\r\n"
   ],
   "outputs": [
    {
     "output_type": "stream",
     "name": "stdout",
     "text": [
      "Moving from A to C\n",
      "Moving from A to B\n",
      "Moving from C to B\n",
      "Moving from A to C\n",
      "Moving from B to A\n",
      "Moving from B to C\n",
      "Moving from A to C\n"
     ]
    }
   ],
   "metadata": {}
  },
  {
   "cell_type": "code",
   "execution_count": null,
   "source": [],
   "outputs": [],
   "metadata": {}
  }
 ],
 "metadata": {
  "kernelspec": {
   "name": "python3",
   "display_name": "Python 3.8.0 64-bit"
  },
  "language_info": {
   "codemirror_mode": {
    "name": "ipython",
    "version": 3
   },
   "file_extension": ".py",
   "mimetype": "text/x-python",
   "name": "python",
   "nbconvert_exporter": "python",
   "pygments_lexer": "ipython3",
   "version": "3.8.0"
  },
  "interpreter": {
   "hash": "7d5c25a0dcd433e9174dbd40cc8162c4c651cca147fa234e40a811528338fdfd"
  }
 },
 "nbformat": 4,
 "nbformat_minor": 5
}