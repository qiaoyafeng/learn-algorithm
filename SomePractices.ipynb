{
 "cells": [
  {
   "cell_type": "markdown",
   "source": [
    "# 一些练习"
   ],
   "metadata": {}
  },
  {
   "cell_type": "markdown",
   "source": [
    "## 装饰器"
   ],
   "metadata": {}
  },
  {
   "cell_type": "code",
   "execution_count": 2,
   "source": [
    "from functools import wraps\r\n",
    "\r\n",
    "def decorator(func):\r\n",
    "    @wraps(func)\r\n",
    "    def wrapper(*args, **kwargs):\r\n",
    "        print('enter decorator=====')\r\n",
    "        result = func(*args, **kwargs)\r\n",
    "        print('exit decorator=====')\r\n",
    "        return result\r\n",
    "    return wrapper\r\n",
    "\r\n",
    "@decorator\r\n",
    "def count(x, y):\r\n",
    "    print('x + y = ', x + y)\r\n",
    "\r\n",
    "\r\n",
    "sum = count(25, 10)"
   ],
   "outputs": [
    {
     "output_type": "stream",
     "name": "stdout",
     "text": [
      "enter decorator=====\n",
      "x + y =  35\n",
      "exit decorator=====\n"
     ]
    }
   ],
   "metadata": {}
  },
  {
   "cell_type": "markdown",
   "source": [
    "## 单例模式"
   ],
   "metadata": {}
  },
  {
   "cell_type": "code",
   "execution_count": 3,
   "source": [
    "class Singleton(object):\r\n",
    "    def __new__(cls):\r\n",
    "        if not hasattr(cls, 'instance'):\r\n",
    "            cls.instance = super(Singleton, cls).__new__(cls)\r\n",
    "        return cls.instance\r\n",
    "\r\n",
    "s1 = Singleton()\r\n",
    "print('s1 object created', s1)\r\n",
    "\r\n",
    "s2 = Singleton()\r\n",
    "print('s2 object created', s2)\r\n",
    "\r\n"
   ],
   "outputs": [
    {
     "output_type": "stream",
     "name": "stdout",
     "text": [
      "s1 object created <__main__.Singleton object at 0x000001957A5ADBB0>\n",
      "s2 object created <__main__.Singleton object at 0x000001957A5ADBB0>\n"
     ]
    }
   ],
   "metadata": {}
  },
  {
   "cell_type": "markdown",
   "source": [
    "## 快速排序"
   ],
   "metadata": {}
  },
  {
   "cell_type": "code",
   "execution_count": 9,
   "source": [
    "def quicksort(array):\r\n",
    "    if len(array) < 2:\r\n",
    "        return array\r\n",
    "    else:\r\n",
    "        pivot = array[0]\r\n",
    "        less = [i for i in array[1:] if i <= pivot]\r\n",
    "        grater = [i for i in array[1:] if i > pivot]\r\n",
    "        return quicksort(less) + [pivot] + quicksort(grater)\r\n",
    "\r\n",
    "mylist = [8, 2, 31, 9, 7, 99, 23, 6, 46]\r\n",
    "sortedlist = quicksort(mylist)\r\n",
    "print(sortedlist)\r\n"
   ],
   "outputs": [
    {
     "output_type": "stream",
     "name": "stdout",
     "text": [
      "[2, 6, 7, 8, 9, 23, 31, 46, 99]\n"
     ]
    }
   ],
   "metadata": {}
  },
  {
   "cell_type": "markdown",
   "source": [
    "## 对一个1到n的列表进行随机排序，且保证相邻的数不能连续"
   ],
   "metadata": {}
  },
  {
   "cell_type": "code",
   "execution_count": 6,
   "source": [
    "import random\r\n",
    "\r\n",
    "def get_incontine_nums(array):\r\n",
    "    result_list = [0 for i in range(len(array))]\r\n",
    "    print(result_list)\r\n",
    "    for num in array:\r\n",
    "        print('Num------------>', num)\r\n",
    "        while True:\r\n",
    "            index = random.randint(0, len(array) - 1)\r\n",
    "            print('index --------------------------->', index)\r\n",
    "            print('result_list - index  -------------------------------', result_list[index] )\r\n",
    "            if result_list[index] == 0:\r\n",
    "                if index == 0:\r\n",
    "                    right_node =  result_list[index + 1]\r\n",
    "                    right = abs(num - right_node) != 1\r\n",
    "                    if num == 1 and right_node == 0:\r\n",
    "                        right = True\r\n",
    "                    if right:\r\n",
    "                        result_list[index] = num\r\n",
    "                        break\r\n",
    "                elif index == len(array)-1:\r\n",
    "                    left_node = result_list[index - 1]\r\n",
    "                    left =  abs(num - left_node) != 1\r\n",
    "                    if num == 1 and left_node == 0:\r\n",
    "                        left = True\r\n",
    "                    if left:\r\n",
    "                        result_list[index] = num\r\n",
    "                        break\r\n",
    "                else:\r\n",
    "                    left_node = result_list[index - 1]\r\n",
    "                    left =  abs(num - left_node) != 1\r\n",
    "                    if num == 1 and left_node == 0:\r\n",
    "                        left = True\r\n",
    "                    right_node =  result_list[index + 1]\r\n",
    "                    right = abs(num - right_node) != 1\r\n",
    "                    if num == 1 and left_node == 0:\r\n",
    "                        right = True\r\n",
    "                    if left and right:\r\n",
    "                        result_list[index] = num\r\n",
    "                        break\r\n",
    "        print(num, '------------>' , result_list)\r\n",
    "    return result_list\r\n",
    "            \r\n",
    "\r\n",
    "mylist = [1, 2, 3, 4, 5, 6, 7, 8]\r\n",
    "print('=====================')\r\n",
    "res = get_incontine_nums(mylist)\r\n",
    "print(res)"
   ],
   "outputs": [
    {
     "output_type": "stream",
     "name": "stdout",
     "text": [
      "=====================\n",
      "[0, 0, 0, 0, 0, 0, 0, 0]\n",
      "Num------------> 1\n",
      "index ---------------------------> 1\n",
      "result_list - index  ------------------------------- 0\n",
      "1 ------------> [0, 1, 0, 0, 0, 0, 0, 0]\n",
      "Num------------> 2\n",
      "index ---------------------------> 1\n",
      "result_list - index  ------------------------------- 1\n",
      "index ---------------------------> 5\n",
      "result_list - index  ------------------------------- 0\n",
      "2 ------------> [0, 1, 0, 0, 0, 2, 0, 0]\n",
      "Num------------> 3\n",
      "index ---------------------------> 7\n",
      "result_list - index  ------------------------------- 0\n",
      "3 ------------> [0, 1, 0, 0, 0, 2, 0, 3]\n",
      "Num------------> 4\n",
      "index ---------------------------> 2\n",
      "result_list - index  ------------------------------- 0\n",
      "4 ------------> [0, 1, 4, 0, 0, 2, 0, 3]\n",
      "Num------------> 5\n",
      "index ---------------------------> 6\n",
      "result_list - index  ------------------------------- 0\n",
      "5 ------------> [0, 1, 4, 0, 0, 2, 5, 3]\n",
      "Num------------> 6\n",
      "index ---------------------------> 1\n",
      "result_list - index  ------------------------------- 1\n",
      "index ---------------------------> 5\n",
      "result_list - index  ------------------------------- 2\n",
      "index ---------------------------> 4\n",
      "result_list - index  ------------------------------- 0\n",
      "6 ------------> [0, 1, 4, 0, 6, 2, 5, 3]\n",
      "Num------------> 7\n",
      "index ---------------------------> 3\n",
      "result_list - index  ------------------------------- 0\n",
      "index ---------------------------> 2\n",
      "result_list - index  ------------------------------- 4\n",
      "index ---------------------------> 1\n",
      "result_list - index  ------------------------------- 1\n",
      "index ---------------------------> 4\n",
      "result_list - index  ------------------------------- 6\n",
      "index ---------------------------> 3\n",
      "result_list - index  ------------------------------- 0\n",
      "index ---------------------------> 5\n",
      "result_list - index  ------------------------------- 2\n",
      "index ---------------------------> 0\n",
      "result_list - index  ------------------------------- 0\n",
      "7 ------------> [7, 1, 4, 0, 6, 2, 5, 3]\n",
      "Num------------> 8\n",
      "index ---------------------------> 4\n",
      "result_list - index  ------------------------------- 6\n",
      "index ---------------------------> 5\n",
      "result_list - index  ------------------------------- 2\n",
      "index ---------------------------> 6\n",
      "result_list - index  ------------------------------- 5\n",
      "index ---------------------------> 3\n",
      "result_list - index  ------------------------------- 0\n",
      "8 ------------> [7, 1, 4, 8, 6, 2, 5, 3]\n",
      "[7, 1, 4, 8, 6, 2, 5, 3]\n"
     ]
    }
   ],
   "metadata": {}
  },
  {
   "cell_type": "markdown",
   "source": [
    "## 关于 copy 和 deepcopy"
   ],
   "metadata": {}
  },
  {
   "cell_type": "code",
   "execution_count": null,
   "source": [
    "import copy\r\n",
    "a = [1, 2, 3, 4, 5, ['a', 'b', 'c']]\r\n",
    "b = a\r\n",
    "c = copy.copy(a)\r\n",
    "d = copy.deepcopy(a)\r\n",
    "\r\n",
    "a.append(5)\r\n",
    "a[5].append('5')\r\n",
    "c[3] = 6\r\n",
    "d[1] = 0\r\n",
    "\r\n",
    "print(b)\r\n",
    "print(c)\r\n",
    "print(d)"
   ],
   "outputs": [
    {
     "output_type": "stream",
     "name": "stdout",
     "text": [
      "[1, 2, 3, 4, 5, ['a', 'b', 'c', '5'], 5]\n",
      "[1, 2, 3, 6, 5, ['a', 'b', 'c', '5']]\n",
      "[1, 0, 3, 4, 5, ['a', 'b', 'c']]\n"
     ]
    }
   ],
   "metadata": {}
  },
  {
   "cell_type": "markdown",
   "source": [
    "## 汉诺塔"
   ],
   "metadata": {}
  },
  {
   "cell_type": "code",
   "execution_count": null,
   "source": [
    "def hanoi(n, a, b, c):\r\n",
    "    if n > 0:\r\n",
    "        hanoi(n - 1, a, c, b)\r\n",
    "        print('Moving from %s to %s' %(a, c))\r\n",
    "        hanoi(n - 1, b, a, c)\r\n",
    "hanoi(3, 'A', 'B', 'C')\r\n"
   ],
   "outputs": [
    {
     "output_type": "stream",
     "name": "stdout",
     "text": [
      "Moving from A to C\n",
      "Moving from A to B\n",
      "Moving from C to B\n",
      "Moving from A to C\n",
      "Moving from B to A\n",
      "Moving from B to C\n",
      "Moving from A to C\n"
     ]
    }
   ],
   "metadata": {}
  },
  {
   "cell_type": "code",
   "execution_count": null,
   "source": [],
   "outputs": [],
   "metadata": {}
  }
 ],
 "metadata": {
  "kernelspec": {
   "name": "python3",
   "display_name": "Python 3.8.0 64-bit"
  },
  "language_info": {
   "codemirror_mode": {
    "name": "ipython",
    "version": 3
   },
   "file_extension": ".py",
   "mimetype": "text/x-python",
   "name": "python",
   "nbconvert_exporter": "python",
   "pygments_lexer": "ipython3",
   "version": "3.8.0"
  },
  "interpreter": {
   "hash": "7d5c25a0dcd433e9174dbd40cc8162c4c651cca147fa234e40a811528338fdfd"
  }
 },
 "nbformat": 4,
 "nbformat_minor": 5
}