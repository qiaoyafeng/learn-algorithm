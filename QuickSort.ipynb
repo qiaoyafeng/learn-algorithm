{
 "cells": [
  {
   "cell_type": "code",
   "execution_count": null,
   "source": [
    "## 快速排序"
   ],
   "outputs": [],
   "metadata": {}
  },
  {
   "cell_type": "code",
   "execution_count": 1,
   "source": [
    "def quicksort(array):\r\n",
    "    if len(array) < 2:\r\n",
    "        return array\r\n",
    "    else:\r\n",
    "        pivot = array[0]\r\n",
    "        less = [i for i in array[1:] if i <= pivot]\r\n",
    "        greater = [i for i in array[1:] if i > pivot]\r\n",
    "        return quicksort(less) + [pivot] + quicksort(greater)\r\n",
    "\r\n",
    "mylist = [5, 3, 8, 9, 2, 11, 1]    \r\n",
    "print(quicksort(mylist))    "
   ],
   "outputs": [
    {
     "output_type": "stream",
     "name": "stdout",
     "text": [
      "[1, 2, 3, 5, 8, 9, 11]\n"
     ]
    }
   ],
   "metadata": {}
  },
  {
   "cell_type": "code",
   "execution_count": null,
   "source": [],
   "outputs": [],
   "metadata": {}
  }
 ],
 "metadata": {
  "kernelspec": {
   "name": "python3",
   "display_name": "Python 3.8.0 64-bit"
  },
  "language_info": {
   "codemirror_mode": {
    "name": "ipython",
    "version": 3
   },
   "file_extension": ".py",
   "mimetype": "text/x-python",
   "name": "python",
   "nbconvert_exporter": "python",
   "pygments_lexer": "ipython3",
   "version": "3.8.0"
  },
  "interpreter": {
   "hash": "7d5c25a0dcd433e9174dbd40cc8162c4c651cca147fa234e40a811528338fdfd"
  }
 },
 "nbformat": 4,
 "nbformat_minor": 5
}