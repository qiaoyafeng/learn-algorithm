{
 "cells": [
  {
   "cell_type": "code",
   "execution_count": null,
   "id": "bc2d9e80-ff86-410e-acac-a40193e0c166",
   "metadata": {},
   "outputs": [],
   "source": [
    "## 快速排序"
   ]
  },
  {
   "cell_type": "code",
   "execution_count": 5,
   "id": "b5918dfd-2c12-41ae-a534-c2a1ce665d4f",
   "metadata": {},
   "outputs": [
    {
     "name": "stdout",
     "output_type": "stream",
     "text": [
      "[1, 1, 2, 3, 9, 9, 11]\n"
     ]
    }
   ],
   "source": [
    "def quicksort(array):\n",
    "    if len(array) < 2:\n",
    "        return array\n",
    "    else:\n",
    "        pivot = array[1]\n",
    "        less = [i for i in array[1:] if i <= pivot]\n",
    "        greater = [i for i in array[1:] if i > pivot]\n",
    "        return quicksort(less) + [pivot] + quicksort(greater)\n",
    "\n",
    "mylist = [5, 3, 8, 9, 2, 11, 1]    \n",
    "print(quicksort(mylist))    "
   ]
  },
  {
   "cell_type": "code",
   "execution_count": null,
   "id": "269a7c7e-7e4e-4db9-9d73-0b87d1d71604",
   "metadata": {},
   "outputs": [],
   "source": []
  }
 ],
 "metadata": {
  "kernelspec": {
   "display_name": "Python 3 (ipykernel)",
   "language": "python",
   "name": "python3"
  },
  "language_info": {
   "codemirror_mode": {
    "name": "ipython",
    "version": 3
   },
   "file_extension": ".py",
   "mimetype": "text/x-python",
   "name": "python",
   "nbconvert_exporter": "python",
   "pygments_lexer": "ipython3",
   "version": "3.8.0"
  }
 },
 "nbformat": 4,
 "nbformat_minor": 5
}
