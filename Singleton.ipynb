{
 "cells": [
  {
   "cell_type": "code",
   "execution_count": null,
   "id": "dd821b0b-4e42-4224-a1a6-80856c597240",
   "metadata": {},
   "outputs": [],
   "source": [
    "# Python单例模式(Singleton)的N种实现"
   ]
  },
  {
   "cell_type": "markdown",
   "id": "df6ae9c2-276a-4168-8c35-5b4a6ac10178",
   "metadata": {},
   "source": [
    "单例是一种设计模式，应用该模式的类只会生成一个实例。\n",
    "\n",
    "单例模式保证了在程序的不同位置都可以且仅可以取到同一个对象实例：如果实例不存在，会创建一个实例；如果已存在就会返回这个实例。因为单例是一个类，所以你也可以为其提供相应的操作方法，以便于对这个实例进行管理。"
   ]
  },
  {
   "cell_type": "markdown",
   "id": "1888fa4d-aa31-444f-8e58-be85c0aaeb71",
   "metadata": {},
   "source": [
    "单例模式,核心结构中只包含一个被称为单例类的特殊类,类的对象只能存在一个\n",
    "三个要点: 某个类只有一个实例; 必须自行创建这个实例; 必须自行向整个系统提供这个实例"
   ]
  },
  {
   "cell_type": "markdown",
   "id": "9f3694a3-a4f3-4308-8efc-d57bb43fce6f",
   "metadata": {},
   "source": [
    "## 使用 new 关键字实现单例模式"
   ]
  },
  {
   "cell_type": "code",
   "execution_count": 1,
   "id": "885913c1-002f-407c-ac4b-be3914fa4fdb",
   "metadata": {},
   "outputs": [
    {
     "name": "stdout",
     "output_type": "stream",
     "text": [
      "140709455730816\n",
      "140709455730816\n",
      "True\n",
      "True\n"
     ]
    }
   ],
   "source": [
    "'''\n",
    "方法1: 实现__new__方法,然后将类的一个实例绑定到类变量_instance上\n",
    "如果cls._instance为None, 说明该类没有被实例化过, new一个该类的实例,并返回\n",
    "如果cls._instance不是None, 直接返回_instance\n",
    "'''\n",
    "\n",
    "class Singleton(object):\n",
    "    instance = None\n",
    "    def __new__(cls):\n",
    "        if not hasattr(cls, 'instance'):\n",
    "            cls.instance = super(Singleton, cls).__new__(cls)\n",
    "        return cls.instance\n",
    "\n",
    "    \n",
    "s1 = Singleton()\n",
    "s2 = Singleton()\n",
    "\n",
    "# s1和s2完全相同, 可以用id(), ==, is检测\n",
    "        \n",
    "print(id(s1))\n",
    "print(id(s2))\n",
    "\n",
    "print(s1 == s2)\n",
    "\n",
    "print(s1 is s2)"
   ]
  },
  {
   "cell_type": "markdown",
   "id": "21fb4b7b-05d7-4a2c-91c9-7ff560759f23",
   "metadata": {},
   "source": [
    "## 使用函数装饰器来实现单例"
   ]
  },
  {
   "cell_type": "code",
   "execution_count": 11,
   "id": "a15cad11-7e24-41c6-b3aa-3f7984be3622",
   "metadata": {},
   "outputs": [
    {
     "ename": "AttributeError",
     "evalue": "type object 'MyClass' has no attribute 'instance'",
     "output_type": "error",
     "traceback": [
      "\u001b[1;31m---------------------------------------------------------------------------\u001b[0m",
      "\u001b[1;31mAttributeError\u001b[0m                            Traceback (most recent call last)",
      "\u001b[1;32m~\\AppData\\Local\\Temp/ipykernel_18500/192555085.py\u001b[0m in \u001b[0;36m<module>\u001b[1;34m\u001b[0m\n\u001b[0;32m     15\u001b[0m \u001b[1;33m\u001b[0m\u001b[0m\n\u001b[0;32m     16\u001b[0m \u001b[1;33m@\u001b[0m\u001b[0msingleton\u001b[0m\u001b[1;33m\u001b[0m\u001b[1;33m\u001b[0m\u001b[0m\n\u001b[1;32m---> 17\u001b[1;33m \u001b[1;32mclass\u001b[0m \u001b[0mMyClass\u001b[0m\u001b[1;33m(\u001b[0m\u001b[0mobject\u001b[0m\u001b[1;33m)\u001b[0m\u001b[1;33m:\u001b[0m\u001b[1;33m\u001b[0m\u001b[1;33m\u001b[0m\u001b[0m\n\u001b[0m\u001b[0;32m     18\u001b[0m     \u001b[0mattr1\u001b[0m \u001b[1;33m=\u001b[0m \u001b[1;36m1\u001b[0m\u001b[1;33m\u001b[0m\u001b[1;33m\u001b[0m\u001b[0m\n\u001b[0;32m     19\u001b[0m     \u001b[1;32mdef\u001b[0m \u001b[0m__init__\u001b[0m\u001b[1;33m(\u001b[0m\u001b[0mself\u001b[0m\u001b[1;33m,\u001b[0m \u001b[1;33m*\u001b[0m\u001b[0margs\u001b[0m\u001b[1;33m,\u001b[0m \u001b[1;33m**\u001b[0m\u001b[0margss\u001b[0m\u001b[1;33m)\u001b[0m\u001b[1;33m:\u001b[0m\u001b[1;33m\u001b[0m\u001b[1;33m\u001b[0m\u001b[0m\n",
      "\u001b[1;32m~\\AppData\\Local\\Temp/ipykernel_18500/192555085.py\u001b[0m in \u001b[0;36msingleton\u001b[1;34m(cls, *args, **kwargs)\u001b[0m\n\u001b[0;32m     11\u001b[0m             \u001b[0minstance\u001b[0m \u001b[1;33m=\u001b[0m \u001b[0mcls\u001b[0m\u001b[1;33m(\u001b[0m\u001b[1;33m*\u001b[0m\u001b[0margs\u001b[0m\u001b[1;33m,\u001b[0m \u001b[1;33m**\u001b[0m\u001b[0mkwargs\u001b[0m\u001b[1;33m)\u001b[0m\u001b[1;33m\u001b[0m\u001b[1;33m\u001b[0m\u001b[0m\n\u001b[0;32m     12\u001b[0m         \u001b[1;32mreturn\u001b[0m \u001b[0minstance\u001b[0m\u001b[1;33m\u001b[0m\u001b[1;33m\u001b[0m\u001b[0m\n\u001b[1;32m---> 13\u001b[1;33m     \u001b[1;32mreturn\u001b[0m \u001b[0mgetinstance\u001b[0m\u001b[1;33m(\u001b[0m\u001b[1;33m)\u001b[0m\u001b[1;33m\u001b[0m\u001b[1;33m\u001b[0m\u001b[0m\n\u001b[0m\u001b[0;32m     14\u001b[0m \u001b[1;33m\u001b[0m\u001b[0m\n\u001b[0;32m     15\u001b[0m \u001b[1;33m\u001b[0m\u001b[0m\n",
      "\u001b[1;32m~\\AppData\\Local\\Temp/ipykernel_18500/192555085.py\u001b[0m in \u001b[0;36mgetinstance\u001b[1;34m()\u001b[0m\n\u001b[0;32m      8\u001b[0m     \u001b[0minstance\u001b[0m \u001b[1;33m=\u001b[0m \u001b[1;32mNone\u001b[0m\u001b[1;33m\u001b[0m\u001b[1;33m\u001b[0m\u001b[0m\n\u001b[0;32m      9\u001b[0m     \u001b[1;32mdef\u001b[0m \u001b[0mgetinstance\u001b[0m\u001b[1;33m(\u001b[0m\u001b[1;33m)\u001b[0m\u001b[1;33m:\u001b[0m\u001b[1;33m\u001b[0m\u001b[1;33m\u001b[0m\u001b[0m\n\u001b[1;32m---> 10\u001b[1;33m         \u001b[1;32mif\u001b[0m \u001b[1;32mnot\u001b[0m \u001b[0mcls\u001b[0m\u001b[1;33m.\u001b[0m\u001b[0minstance\u001b[0m\u001b[1;33m:\u001b[0m\u001b[1;33m\u001b[0m\u001b[1;33m\u001b[0m\u001b[0m\n\u001b[0m\u001b[0;32m     11\u001b[0m             \u001b[0minstance\u001b[0m \u001b[1;33m=\u001b[0m \u001b[0mcls\u001b[0m\u001b[1;33m(\u001b[0m\u001b[1;33m*\u001b[0m\u001b[0margs\u001b[0m\u001b[1;33m,\u001b[0m \u001b[1;33m**\u001b[0m\u001b[0mkwargs\u001b[0m\u001b[1;33m)\u001b[0m\u001b[1;33m\u001b[0m\u001b[1;33m\u001b[0m\u001b[0m\n\u001b[0;32m     12\u001b[0m         \u001b[1;32mreturn\u001b[0m \u001b[0minstance\u001b[0m\u001b[1;33m\u001b[0m\u001b[1;33m\u001b[0m\u001b[0m\n",
      "\u001b[1;31mAttributeError\u001b[0m: type object 'MyClass' has no attribute 'instance'"
     ]
    }
   ],
   "source": [
    "'''\n",
    "方法3：装饰器版本decorator\n",
    "这是一种更pythonic，更elegant的方法\n",
    "单例类本身根本不知道自己是单例的，因为他自己的代码并不是单例的\n",
    "'''\n",
    "\n",
    "def singleton(cls, *args, **kwargs):\n",
    "    instance = None\n",
    "    def getinstance():\n",
    "        if not cls.instance:\n",
    "            instance = cls(*args, **kwargs)\n",
    "        return instance\n",
    "    return getinstance()\n",
    "\n",
    "\n",
    "@singleton\n",
    "class MyClass(object):\n",
    "    attr1 = 1\n",
    "    def __init__(self, *args, **argss):\n",
    "        pass\n",
    "\n",
    "    \n",
    "one = MyClass()\n",
    "two = MyClass()\n",
    "\n",
    "print(one)\n",
    "print(two)\n",
    "\n",
    "print(id(one))\n",
    "print(id(two))\n",
    "\n",
    "print(one == two)\n",
    "\n",
    "print(one is two)\n",
    "\n",
    "            "
   ]
  },
  {
   "cell_type": "code",
   "execution_count": 8,
   "id": "db4ed9cf-b6a0-4d56-8615-ec4277f0b6bf",
   "metadata": {},
   "outputs": [
    {
     "name": "stdout",
     "output_type": "stream",
     "text": [
      "3\n",
      "1587612933808\n",
      "1587612933808\n",
      "True\n",
      "True\n",
      "1\n",
      "1\n"
     ]
    }
   ],
   "source": [
    "def singleton(cls, *args, **kwargs):\n",
    "    instances = {}\n",
    "    def getinstance():\n",
    "        if cls not in instances:\n",
    "            instances[cls] = cls(*args, **kwargs)\n",
    "        return instances[cls]\n",
    "    return getinstance\n",
    "@singleton\n",
    "class MyClass3(object):\n",
    "    a = 1\n",
    "    def __init__(self, x = 0):\n",
    "        self.x = x\n",
    "\n",
    "one = MyClass3()\n",
    "two = MyClass3()\n",
    "two.a = 3\n",
    "print(one.a)            # 3\n",
    "print(id(one))          # 8842576\n",
    "print(id(two))          # 8842576\n",
    "print(one == two)       # True\n",
    "print(one is two)       # True\n",
    "one.x = 1\n",
    "print(one.x)            # 1\n",
    "print(two.x)            # 1\n"
   ]
  },
  {
   "cell_type": "code",
   "execution_count": null,
   "id": "9c6664ea-5a2b-4288-86db-4086e486c968",
   "metadata": {},
   "outputs": [],
   "source": []
  }
 ],
 "metadata": {
  "kernelspec": {
   "display_name": "Python 3 (ipykernel)",
   "language": "python",
   "name": "python3"
  },
  "language_info": {
   "codemirror_mode": {
    "name": "ipython",
    "version": 3
   },
   "file_extension": ".py",
   "mimetype": "text/x-python",
   "name": "python",
   "nbconvert_exporter": "python",
   "pygments_lexer": "ipython3",
   "version": "3.8.0"
  }
 },
 "nbformat": 4,
 "nbformat_minor": 5
}
