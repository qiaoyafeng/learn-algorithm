{
 "cells": [
  {
   "cell_type": "code",
   "execution_count": null,
   "id": "176f3aef-dfa3-41cf-97c1-db99a39136b5",
   "metadata": {},
   "outputs": [],
   "source": [
    "# 多线程"
   ]
  },
  {
   "cell_type": "markdown",
   "id": "07c24b9e-175b-4e71-a9dd-c01824b53c8d",
   "metadata": {},
   "source": [
    "多任务可以由多进程完成，也可以由一个进程内的多线程完成。进程是由若干线程组成的，一个进程至少有一个线程。\n",
    "\n",
    "Python的标准库提供了两个模块：_thread和threading，_thread是低级模块，threading是高级模块，对_thread进行了封装。绝大多数情况下，我们只需要使用threading这个高级模块。\n",
    "\n",
    "启动一个线程就是把一个函数传入并创建Thread实例，然后调用start()开始执行："
   ]
  },
  {
   "cell_type": "code",
   "execution_count": 2,
   "id": "4c59ddac-b96d-4951-89d2-dd9b0ad24c2f",
   "metadata": {},
   "outputs": [
    {
     "name": "stdout",
     "output_type": "stream",
     "text": [
      "thread MainThread is running...\n",
      "thread LoopThread is running ...\n",
      "thread LoopThread >>> 1\n",
      "thread LoopThread >>> 2\n",
      "thread LoopThread >>> 3\n",
      "thread LoopThread >>> 4\n",
      "thread LoopThread >>> 5\n",
      "thread LoopThread >>> 6\n",
      "thread LoopThread ended.\n",
      "thread MainThread ended.\n"
     ]
    }
   ],
   "source": [
    "import time\n",
    "import threading\n",
    "\n",
    "# 新线程执行的代码\n",
    "def loop():\n",
    "    print('thread %s is running ...' %threading.current_thread().name)\n",
    "    n = 0\n",
    "    while n < 6:\n",
    "        n += 1\n",
    "        print('thread %s >>> %s' % (threading.current_thread().name, n))\n",
    "        time.sleep(2)\n",
    "    print('thread %s ended.' %(threading.current_thread().name) )\n",
    "        \n",
    "print('thread %s is running...' % threading.current_thread().name)\n",
    "\n",
    "t = threading.Thread(target=loop, name='LoopThread')\n",
    "t.start()\n",
    "t.join()\n",
    "print('thread %s ended.' % threading.current_thread().name)\n"
   ]
  },
  {
   "cell_type": "code",
   "execution_count": null,
   "id": "53de72b6-a640-49cc-85cf-f50827caf689",
   "metadata": {},
   "outputs": [],
   "source": []
  }
 ],
 "metadata": {
  "kernelspec": {
   "display_name": "Python 3 (ipykernel)",
   "language": "python",
   "name": "python3"
  },
  "language_info": {
   "codemirror_mode": {
    "name": "ipython",
    "version": 3
   },
   "file_extension": ".py",
   "mimetype": "text/x-python",
   "name": "python",
   "nbconvert_exporter": "python",
   "pygments_lexer": "ipython3",
   "version": "3.8.0"
  }
 },
 "nbformat": 4,
 "nbformat_minor": 5
}
